{
 "cells": [
  {
   "cell_type": "markdown",
   "id": "ce3ada13",
   "metadata": {},
   "source": [
    "# Seattle non-residential buildings energy consumption"
   ]
  },
  {
   "cell_type": "markdown",
   "id": "c9bd6a1d",
   "metadata": {},
   "source": [
    "This notebook aims at predicting the total energy consumptions of non-residential buildings in the city of Seattle.\n",
    "It relies on an official dataset available here: https://data.seattle.gov/dataset/2016-Building-Energy-Benchmarking/2bpz-gwpy\n",
    "We are using a modified (by us) version of the database that you can find at this adress: inserer lien github\n",
    "\n",
    "Another almost identical notebook exists and deals with GHG emissions rather than Energy consumption."
   ]
  },
  {
   "cell_type": "markdown",
   "id": "227df17f",
   "metadata": {},
   "source": [
    "## Initialization"
   ]
  },
  {
   "cell_type": "code",
   "execution_count": 50,
   "id": "a66b034c",
   "metadata": {},
   "outputs": [],
   "source": [
    "# Packages import\n",
    "import numpy as np\n",
    "import pandas as pd\n",
    "import matplotlib.pyplot as plt\n",
    "import seaborn as sns"
   ]
  },
  {
   "cell_type": "code",
   "execution_count": 51,
   "id": "dcb193a4",
   "metadata": {},
   "outputs": [],
   "source": [
    "# Loading the dataset\n",
    "data = pd.read_csv(r'./Data/seattle_cleaned_dataset.csv', sep = ',', low_memory = False)"
   ]
  },
  {
   "cell_type": "code",
   "execution_count": 52,
   "id": "4898635b",
   "metadata": {},
   "outputs": [
    {
     "data": {
      "text/html": [
       "<div>\n",
       "<style scoped>\n",
       "    .dataframe tbody tr th:only-of-type {\n",
       "        vertical-align: middle;\n",
       "    }\n",
       "\n",
       "    .dataframe tbody tr th {\n",
       "        vertical-align: top;\n",
       "    }\n",
       "\n",
       "    .dataframe thead th {\n",
       "        text-align: right;\n",
       "    }\n",
       "</style>\n",
       "<table border=\"1\" class=\"dataframe\">\n",
       "  <thead>\n",
       "    <tr style=\"text-align: right;\">\n",
       "      <th></th>\n",
       "      <th>OSEBuildingID</th>\n",
       "      <th>ZipCode</th>\n",
       "      <th>Latitude</th>\n",
       "      <th>Longitude</th>\n",
       "      <th>NumberofBuildings</th>\n",
       "      <th>NumberofFloors</th>\n",
       "      <th>PropertyGFATotal</th>\n",
       "      <th>PropertyGFAParking</th>\n",
       "      <th>PropertyGFABuilding(s)</th>\n",
       "      <th>ENERGYSTARScore</th>\n",
       "      <th>SiteEUIWN(kBtu/sf)</th>\n",
       "      <th>SiteEnergyUseWN(kBtu)</th>\n",
       "      <th>SteamUse(kBtu)</th>\n",
       "      <th>Electricity(kBtu)</th>\n",
       "      <th>NaturalGas(kBtu)</th>\n",
       "      <th>TotalGHGEmissions</th>\n",
       "      <th>GHGEmissionsIntensity</th>\n",
       "      <th>BuildingAge</th>\n",
       "    </tr>\n",
       "  </thead>\n",
       "  <tbody>\n",
       "    <tr>\n",
       "      <th>count</th>\n",
       "      <td>1636.000000</td>\n",
       "      <td>1620.000000</td>\n",
       "      <td>1636.000000</td>\n",
       "      <td>1636.000000</td>\n",
       "      <td>1636.000000</td>\n",
       "      <td>1636.000000</td>\n",
       "      <td>1.636000e+03</td>\n",
       "      <td>1636.000000</td>\n",
       "      <td>1.636000e+03</td>\n",
       "      <td>1078.000000</td>\n",
       "      <td>1636.000000</td>\n",
       "      <td>1.636000e+03</td>\n",
       "      <td>1.636000e+03</td>\n",
       "      <td>1.636000e+03</td>\n",
       "      <td>1.636000e+03</td>\n",
       "      <td>1636.000000</td>\n",
       "      <td>1636.000000</td>\n",
       "      <td>1636.000000</td>\n",
       "    </tr>\n",
       "    <tr>\n",
       "      <th>mean</th>\n",
       "      <td>16255.489609</td>\n",
       "      <td>98116.932716</td>\n",
       "      <td>47.616126</td>\n",
       "      <td>-122.332965</td>\n",
       "      <td>1.099633</td>\n",
       "      <td>4.118582</td>\n",
       "      <td>1.137481e+05</td>\n",
       "      <td>12945.718826</td>\n",
       "      <td>1.008023e+05</td>\n",
       "      <td>65.138219</td>\n",
       "      <td>75.018949</td>\n",
       "      <td>8.122033e+06</td>\n",
       "      <td>4.700248e+05</td>\n",
       "      <td>5.475530e+06</td>\n",
       "      <td>1.997737e+06</td>\n",
       "      <td>180.552152</td>\n",
       "      <td>1.626333</td>\n",
       "      <td>52.827628</td>\n",
       "    </tr>\n",
       "    <tr>\n",
       "      <th>std</th>\n",
       "      <td>13854.775408</td>\n",
       "      <td>18.533239</td>\n",
       "      <td>0.048417</td>\n",
       "      <td>0.024662</td>\n",
       "      <td>1.161766</td>\n",
       "      <td>6.565362</td>\n",
       "      <td>1.941333e+05</td>\n",
       "      <td>42535.544496</td>\n",
       "      <td>1.728464e+05</td>\n",
       "      <td>28.379155</td>\n",
       "      <td>74.910480</td>\n",
       "      <td>2.219025e+07</td>\n",
       "      <td>5.156614e+06</td>\n",
       "      <td>1.339365e+07</td>\n",
       "      <td>9.453094e+06</td>\n",
       "      <td>708.466267</td>\n",
       "      <td>2.352106</td>\n",
       "      <td>32.526775</td>\n",
       "    </tr>\n",
       "    <tr>\n",
       "      <th>min</th>\n",
       "      <td>1.000000</td>\n",
       "      <td>98006.000000</td>\n",
       "      <td>47.499170</td>\n",
       "      <td>-122.411820</td>\n",
       "      <td>0.000000</td>\n",
       "      <td>0.000000</td>\n",
       "      <td>1.128500e+04</td>\n",
       "      <td>0.000000</td>\n",
       "      <td>3.636000e+03</td>\n",
       "      <td>1.000000</td>\n",
       "      <td>0.000000</td>\n",
       "      <td>0.000000e+00</td>\n",
       "      <td>0.000000e+00</td>\n",
       "      <td>-1.154170e+05</td>\n",
       "      <td>0.000000e+00</td>\n",
       "      <td>-0.800000</td>\n",
       "      <td>-0.020000</td>\n",
       "      <td>0.000000</td>\n",
       "    </tr>\n",
       "    <tr>\n",
       "      <th>25%</th>\n",
       "      <td>577.750000</td>\n",
       "      <td>98105.000000</td>\n",
       "      <td>47.585160</td>\n",
       "      <td>-122.343335</td>\n",
       "      <td>1.000000</td>\n",
       "      <td>1.000000</td>\n",
       "      <td>2.950550e+04</td>\n",
       "      <td>0.000000</td>\n",
       "      <td>2.852325e+04</td>\n",
       "      <td>48.000000</td>\n",
       "      <td>36.099998</td>\n",
       "      <td>1.322253e+06</td>\n",
       "      <td>0.000000e+00</td>\n",
       "      <td>7.272688e+05</td>\n",
       "      <td>0.000000e+00</td>\n",
       "      <td>20.427500</td>\n",
       "      <td>0.360000</td>\n",
       "      <td>26.000000</td>\n",
       "    </tr>\n",
       "    <tr>\n",
       "      <th>50%</th>\n",
       "      <td>21131.000000</td>\n",
       "      <td>98110.000000</td>\n",
       "      <td>47.612380</td>\n",
       "      <td>-122.332890</td>\n",
       "      <td>1.000000</td>\n",
       "      <td>2.000000</td>\n",
       "      <td>4.971200e+04</td>\n",
       "      <td>0.000000</td>\n",
       "      <td>4.763750e+04</td>\n",
       "      <td>73.000000</td>\n",
       "      <td>54.299999</td>\n",
       "      <td>2.736046e+06</td>\n",
       "      <td>0.000000e+00</td>\n",
       "      <td>1.628064e+06</td>\n",
       "      <td>5.141630e+05</td>\n",
       "      <td>50.015000</td>\n",
       "      <td>0.880000</td>\n",
       "      <td>49.000000</td>\n",
       "    </tr>\n",
       "    <tr>\n",
       "      <th>75%</th>\n",
       "      <td>24591.500000</td>\n",
       "      <td>98125.000000</td>\n",
       "      <td>47.649760</td>\n",
       "      <td>-122.321765</td>\n",
       "      <td>1.000000</td>\n",
       "      <td>4.000000</td>\n",
       "      <td>1.060102e+05</td>\n",
       "      <td>0.000000</td>\n",
       "      <td>9.506750e+04</td>\n",
       "      <td>89.000000</td>\n",
       "      <td>85.299997</td>\n",
       "      <td>7.187220e+06</td>\n",
       "      <td>0.000000e+00</td>\n",
       "      <td>4.882877e+06</td>\n",
       "      <td>1.529470e+06</td>\n",
       "      <td>144.870000</td>\n",
       "      <td>1.910000</td>\n",
       "      <td>85.000000</td>\n",
       "    </tr>\n",
       "    <tr>\n",
       "      <th>max</th>\n",
       "      <td>50226.000000</td>\n",
       "      <td>98199.000000</td>\n",
       "      <td>47.733870</td>\n",
       "      <td>-122.258640</td>\n",
       "      <td>27.000000</td>\n",
       "      <td>99.000000</td>\n",
       "      <td>2.200000e+06</td>\n",
       "      <td>512608.000000</td>\n",
       "      <td>2.200000e+06</td>\n",
       "      <td>100.000000</td>\n",
       "      <td>834.400024</td>\n",
       "      <td>4.716139e+08</td>\n",
       "      <td>1.349435e+08</td>\n",
       "      <td>2.745325e+08</td>\n",
       "      <td>2.979090e+08</td>\n",
       "      <td>16870.980000</td>\n",
       "      <td>34.090000</td>\n",
       "      <td>115.000000</td>\n",
       "    </tr>\n",
       "  </tbody>\n",
       "</table>\n",
       "</div>"
      ],
      "text/plain": [
       "       OSEBuildingID       ZipCode     Latitude    Longitude  \\\n",
       "count    1636.000000   1620.000000  1636.000000  1636.000000   \n",
       "mean    16255.489609  98116.932716    47.616126  -122.332965   \n",
       "std     13854.775408     18.533239     0.048417     0.024662   \n",
       "min         1.000000  98006.000000    47.499170  -122.411820   \n",
       "25%       577.750000  98105.000000    47.585160  -122.343335   \n",
       "50%     21131.000000  98110.000000    47.612380  -122.332890   \n",
       "75%     24591.500000  98125.000000    47.649760  -122.321765   \n",
       "max     50226.000000  98199.000000    47.733870  -122.258640   \n",
       "\n",
       "       NumberofBuildings  NumberofFloors  PropertyGFATotal  \\\n",
       "count        1636.000000     1636.000000      1.636000e+03   \n",
       "mean            1.099633        4.118582      1.137481e+05   \n",
       "std             1.161766        6.565362      1.941333e+05   \n",
       "min             0.000000        0.000000      1.128500e+04   \n",
       "25%             1.000000        1.000000      2.950550e+04   \n",
       "50%             1.000000        2.000000      4.971200e+04   \n",
       "75%             1.000000        4.000000      1.060102e+05   \n",
       "max            27.000000       99.000000      2.200000e+06   \n",
       "\n",
       "       PropertyGFAParking  PropertyGFABuilding(s)  ENERGYSTARScore  \\\n",
       "count         1636.000000            1.636000e+03      1078.000000   \n",
       "mean         12945.718826            1.008023e+05        65.138219   \n",
       "std          42535.544496            1.728464e+05        28.379155   \n",
       "min              0.000000            3.636000e+03         1.000000   \n",
       "25%              0.000000            2.852325e+04        48.000000   \n",
       "50%              0.000000            4.763750e+04        73.000000   \n",
       "75%              0.000000            9.506750e+04        89.000000   \n",
       "max         512608.000000            2.200000e+06       100.000000   \n",
       "\n",
       "       SiteEUIWN(kBtu/sf)  SiteEnergyUseWN(kBtu)  SteamUse(kBtu)  \\\n",
       "count         1636.000000           1.636000e+03    1.636000e+03   \n",
       "mean            75.018949           8.122033e+06    4.700248e+05   \n",
       "std             74.910480           2.219025e+07    5.156614e+06   \n",
       "min              0.000000           0.000000e+00    0.000000e+00   \n",
       "25%             36.099998           1.322253e+06    0.000000e+00   \n",
       "50%             54.299999           2.736046e+06    0.000000e+00   \n",
       "75%             85.299997           7.187220e+06    0.000000e+00   \n",
       "max            834.400024           4.716139e+08    1.349435e+08   \n",
       "\n",
       "       Electricity(kBtu)  NaturalGas(kBtu)  TotalGHGEmissions  \\\n",
       "count       1.636000e+03      1.636000e+03        1636.000000   \n",
       "mean        5.475530e+06      1.997737e+06         180.552152   \n",
       "std         1.339365e+07      9.453094e+06         708.466267   \n",
       "min        -1.154170e+05      0.000000e+00          -0.800000   \n",
       "25%         7.272688e+05      0.000000e+00          20.427500   \n",
       "50%         1.628064e+06      5.141630e+05          50.015000   \n",
       "75%         4.882877e+06      1.529470e+06         144.870000   \n",
       "max         2.745325e+08      2.979090e+08       16870.980000   \n",
       "\n",
       "       GHGEmissionsIntensity  BuildingAge  \n",
       "count            1636.000000  1636.000000  \n",
       "mean                1.626333    52.827628  \n",
       "std                 2.352106    32.526775  \n",
       "min                -0.020000     0.000000  \n",
       "25%                 0.360000    26.000000  \n",
       "50%                 0.880000    49.000000  \n",
       "75%                 1.910000    85.000000  \n",
       "max                34.090000   115.000000  "
      ]
     },
     "execution_count": 52,
     "metadata": {},
     "output_type": "execute_result"
    }
   ],
   "source": [
    "data.describe()"
   ]
  },
  {
   "cell_type": "markdown",
   "id": "475ecbc2",
   "metadata": {},
   "source": [
    "As minimums of Electricity(kBtu) and TotalGHGEmissions, we find negative values. As previously investigated, it corresponds to the Bullit Center, self-designated as \"the Greenest Commercial Building in the World\". Indeed, on average for a given year, it produces more energy that it requires to operate.\n",
    "\n",
    "Considering it is not a measurement error but an outlier, we'll keep it for the moment, and maybe run two models: one with and one without this observation."
   ]
  },
  {
   "cell_type": "code",
   "execution_count": 53,
   "id": "df94e31f",
   "metadata": {},
   "outputs": [
    {
     "name": "stdout",
     "output_type": "stream",
     "text": [
      "<class 'pandas.core.frame.DataFrame'>\n",
      "RangeIndex: 1636 entries, 0 to 1635\n",
      "Data columns (total 25 columns):\n",
      " #   Column                     Non-Null Count  Dtype  \n",
      "---  ------                     --------------  -----  \n",
      " 0   OSEBuildingID              1636 non-null   int64  \n",
      " 1   PrimaryPropertyType        1636 non-null   object \n",
      " 2   PropertyName               1636 non-null   object \n",
      " 3   Address                    1636 non-null   object \n",
      " 4   ZipCode                    1620 non-null   float64\n",
      " 5   Neighborhood               1636 non-null   object \n",
      " 6   Latitude                   1636 non-null   float64\n",
      " 7   Longitude                  1636 non-null   float64\n",
      " 8   NumberofBuildings          1636 non-null   float64\n",
      " 9   NumberofFloors             1636 non-null   int64  \n",
      " 10  PropertyGFATotal           1636 non-null   int64  \n",
      " 11  PropertyGFAParking         1636 non-null   int64  \n",
      " 12  PropertyGFABuilding(s)     1636 non-null   int64  \n",
      " 13  ListOfAllPropertyUseTypes  1636 non-null   object \n",
      " 14  LargestPropertyUseType     1632 non-null   object \n",
      " 15  ENERGYSTARScore            1078 non-null   float64\n",
      " 16  SiteEUIWN(kBtu/sf)         1636 non-null   float64\n",
      " 17  SiteEnergyUseWN(kBtu)      1636 non-null   float64\n",
      " 18  SteamUse(kBtu)             1636 non-null   float64\n",
      " 19  Electricity(kBtu)          1636 non-null   float64\n",
      " 20  NaturalGas(kBtu)           1636 non-null   float64\n",
      " 21  ComplianceStatus           1636 non-null   object \n",
      " 22  TotalGHGEmissions          1636 non-null   float64\n",
      " 23  GHGEmissionsIntensity      1636 non-null   float64\n",
      " 24  BuildingAge                1636 non-null   int64  \n",
      "dtypes: float64(12), int64(6), object(7)\n",
      "memory usage: 319.7+ KB\n"
     ]
    }
   ],
   "source": [
    "data.info()"
   ]
  },
  {
   "cell_type": "markdown",
   "id": "0e806e08",
   "metadata": {},
   "source": [
    "All variables seems to be coded in the proper format.\n",
    "\n",
    "We have some missing values for ZipCode, LargestPropertyUseType, and ENERGYSTARScore. We'll delete Zipcode (as well as other localization/id variables) but keep the two other."
   ]
  },
  {
   "cell_type": "markdown",
   "id": "13fbb32a",
   "metadata": {},
   "source": [
    "## Preprocessing"
   ]
  },
  {
   "cell_type": "code",
   "execution_count": 54,
   "id": "45f147d5",
   "metadata": {},
   "outputs": [],
   "source": [
    "# Exclude some 'id' and localization variables for now\n",
    "data = data.drop(['OSEBuildingID', 'PropertyName', 'Address', 'ZipCode', 'ComplianceStatus'], axis = 1)"
   ]
  },
  {
   "cell_type": "markdown",
   "id": "c8834ae3",
   "metadata": {},
   "source": [
    "#### Numerical vs Categorical features decomposition"
   ]
  },
  {
   "cell_type": "code",
   "execution_count": 55,
   "id": "42b05afb",
   "metadata": {},
   "outputs": [
    {
     "data": {
      "text/plain": [
       "PrimaryPropertyType           21\n",
       "Neighborhood                  19\n",
       "ListOfAllPropertyUseTypes    362\n",
       "LargestPropertyUseType        55\n",
       "dtype: int64"
      ]
     },
     "execution_count": 55,
     "metadata": {},
     "output_type": "execute_result"
    }
   ],
   "source": [
    "# Categorical features\n",
    "categorical_features = data[['PrimaryPropertyType', 'Neighborhood', \n",
    "                             'ListOfAllPropertyUseTypes', 'LargestPropertyUseType']]\n",
    "categorical_features.nunique()"
   ]
  },
  {
   "cell_type": "markdown",
   "id": "6a366c10",
   "metadata": {},
   "source": [
    "As seen in the data exploration notebook, there are a lot of PropertyUseTypes (362). On the other hand, PrimaryPropertyType (with 21 unique values) may be a little to innacurate.  \n",
    "In between, LargestPropertyUseType has a interesting 55 unique values and will be retained as our 'building type' variable. So we have to delete the four observations that do not have a value for this feature."
   ]
  },
  {
   "cell_type": "code",
   "execution_count": 56,
   "id": "1ca3c00c",
   "metadata": {},
   "outputs": [],
   "source": [
    "data = data[~(data['LargestPropertyUseType'].isnull())]"
   ]
  },
  {
   "cell_type": "code",
   "execution_count": 57,
   "id": "ab3d2aba",
   "metadata": {},
   "outputs": [],
   "source": [
    "categorical_features = data[['Neighborhood', 'LargestPropertyUseType']]"
   ]
  },
  {
   "cell_type": "code",
   "execution_count": 58,
   "id": "c1324260",
   "metadata": {},
   "outputs": [],
   "source": [
    "# Numerical features\n",
    "numerical_features = data[['Latitude', 'Longitude',\n",
    "                           'NumberofBuildings', 'NumberofFloors', 'BuildingAge',\n",
    "                           'PropertyGFATotal','PropertyGFAParking', 'PropertyGFABuilding(s)',\n",
    "                           'SiteEUIWN(kBtu/sf)', 'SiteEnergyUseWN(kBtu)',\n",
    "                           'SteamUse(kBtu)', 'Electricity(kBtu)', 'NaturalGas(kBtu)',\n",
    "                           'TotalGHGEmissions', 'GHGEmissionsIntensity',\n",
    "                           'ENERGYSTARScore']]"
   ]
  },
  {
   "cell_type": "markdown",
   "id": "2649ba0f",
   "metadata": {},
   "source": [
    "The retained numerical features for sure present multicolinearity. For example, the PropertyGFATotal is positively correlated with the NumberofBuildings.\n",
    "Including both will not a problem with regards to the overall performance and prediction power of the model, but it will blur the explanation impact of each variable. We should keep that in mind.\n",
    "\n",
    "ENERGYSTARScore will recieve a special treatment due to its relative low number of observations.\n",
    "\n",
    "Our target is the energy consumption. Two variables measure that: 'SiteEUIWN(kBtu/sf)' and 'SiteEnergyUseWN(kBtu)'.\n",
    "We will take the gross energy consumption: 'SiteEnergyUseWN(kBtu)' as feature to predict. The 'energy use intensity' ('SiteEUIWN(kBtu/sf)') will be deleted."
   ]
  },
  {
   "cell_type": "markdown",
   "id": "b402b0c0",
   "metadata": {},
   "source": [
    "#### Train & Test sets"
   ]
  },
  {
   "cell_type": "code",
   "execution_count": 59,
   "id": "16f526fa",
   "metadata": {},
   "outputs": [],
   "source": [
    "from sklearn.model_selection import train_test_split\n",
    "\n",
    "X = data[['Latitude', 'Longitude', \n",
    "          'NumberofBuildings', 'NumberofFloors', 'BuildingAge',\n",
    "          'PropertyGFATotal','PropertyGFAParking', 'PropertyGFABuilding(s)',\n",
    "          'SteamUse(kBtu)', 'Electricity(kBtu)', 'NaturalGas(kBtu)',\n",
    "          'TotalGHGEmissions', 'GHGEmissionsIntensity',\n",
    "          'Neighborhood', 'LargestPropertyUseType']]\n",
    "\n",
    "y = data['SiteEnergyUseWN(kBtu)']\n",
    "\n",
    "X_train, X_test, y_train, y_test = train_test_split(X, y, test_size = 0.2)"
   ]
  },
  {
   "cell_type": "markdown",
   "id": "93de0c0e",
   "metadata": {},
   "source": [
    "## Models"
   ]
  },
  {
   "cell_type": "markdown",
   "id": "dbe7cd53",
   "metadata": {},
   "source": [
    "We will include all remaining preprocessing in pipelines.\n",
    "\n",
    "First, we are going to run two linear models: a LinearRegression (as baseline model) and an ElasticNet regression.\n",
    "Then, we will implement two ensemble methods: a Random Forest and a XGBoost.\n",
    "\n",
    "All R² and MSE will be stored in a table to compare results.  "
   ]
  },
  {
   "cell_type": "code",
   "execution_count": 60,
   "id": "c60c6968",
   "metadata": {},
   "outputs": [],
   "source": [
    "# Selected Scikit-Learn modules\n",
    "# Pipeline tools\n",
    "from sklearn.pipeline import make_pipeline\n",
    "from sklearn.compose import make_column_transformer\n",
    "\n",
    "# Transformers\n",
    "from sklearn.preprocessing import RobustScaler\n",
    "from sklearn.preprocessing import OneHotEncoder\n",
    "\n",
    "# Linear models\n",
    "from sklearn.linear_model import LinearRegression\n",
    "from sklearn.linear_model import ElasticNet\n",
    "\n",
    "# Metrics\n",
    "from sklearn.metrics import mean_squared_error\n",
    "from sklearn.metrics import r2_score"
   ]
  },
  {
   "cell_type": "markdown",
   "id": "96d52e7d",
   "metadata": {},
   "source": [
    "### Baseline model"
   ]
  },
  {
   "cell_type": "code",
   "execution_count": 61,
   "id": "357456c7",
   "metadata": {},
   "outputs": [
    {
     "data": {
      "text/plain": [
       "Pipeline(steps=[('columntransformer',\n",
       "                 ColumnTransformer(transformers=[('robustscaler',\n",
       "                                                  RobustScaler(),\n",
       "                                                  ['Latitude', 'Longitude',\n",
       "                                                   'NumberofBuildings',\n",
       "                                                   'NumberofFloors',\n",
       "                                                   'BuildingAge',\n",
       "                                                   'PropertyGFATotal',\n",
       "                                                   'PropertyGFAParking',\n",
       "                                                   'PropertyGFABuilding(s)',\n",
       "                                                   'SteamUse(kBtu)',\n",
       "                                                   'Electricity(kBtu)',\n",
       "                                                   'NaturalGas(kBtu)',\n",
       "                                                   'TotalGHGEmissions',\n",
       "                                                   'GHGEmissionsIntensity']),\n",
       "                                                 ('onehotencoder',\n",
       "                                                  OneHotEncoder(handle_unknown='ignore'),\n",
       "                                                  ['Neighborhood',\n",
       "                                                   'LargestPropertyUseType'])])),\n",
       "                ('linearregression', LinearRegression())])"
      ]
     },
     "execution_count": 61,
     "metadata": {},
     "output_type": "execute_result"
    }
   ],
   "source": [
    "## Linear Regression\n",
    "# Transformer\n",
    "transformer = make_column_transformer(\n",
    "                                      (RobustScaler(),  \n",
    "                                       # We choose the robust scaler because we have outliers\n",
    "                                       # that we want to keep\n",
    "                                              ['Latitude', 'Longitude', \n",
    "                                               'NumberofBuildings', 'NumberofFloors', 'BuildingAge',\n",
    "                                               'PropertyGFATotal','PropertyGFAParking', 'PropertyGFABuilding(s)',\n",
    "                                               'SteamUse(kBtu)', 'Electricity(kBtu)', 'NaturalGas(kBtu)',\n",
    "                                               'TotalGHGEmissions', 'GHGEmissionsIntensity']),   \n",
    "                                      (OneHotEncoder(handle_unknown='ignore'),\n",
    "                                       # we decide to ignore unknown categories because some building types are\n",
    "                                       # unique, and therefore only exist\n",
    "                                       # in either the test or the train set.\n",
    "                                              ['Neighborhood', 'LargestPropertyUseType'])\n",
    "                                     )\n",
    "\n",
    "\n",
    "model_lr = make_pipeline(transformer, LinearRegression())\n",
    "model_lr.fit(X_train, y_train)"
   ]
  },
  {
   "cell_type": "code",
   "execution_count": 62,
   "id": "94d41e92",
   "metadata": {},
   "outputs": [],
   "source": [
    "# Predictions\n",
    "y_pred = model_lr.predict(X_test)"
   ]
  },
  {
   "cell_type": "code",
   "execution_count": 63,
   "id": "0d520fec",
   "metadata": {},
   "outputs": [
    {
     "name": "stdout",
     "output_type": "stream",
     "text": [
      "R² = 0.9947382847098875\n",
      "RMSE = 645317.1962034381\n"
     ]
    }
   ],
   "source": [
    "print(\"R² =\", model_lr.score(X_train, y_train))\n",
    "print(\"RMSE =\", np.sqrt(mean_squared_error(y_test, y_pred)))"
   ]
  },
  {
   "cell_type": "code",
   "execution_count": null,
   "id": "5614731e",
   "metadata": {},
   "outputs": [],
   "source": []
  }
 ],
 "metadata": {
  "kernelspec": {
   "display_name": "Python 3 (ipykernel)",
   "language": "python",
   "name": "python3"
  },
  "language_info": {
   "codemirror_mode": {
    "name": "ipython",
    "version": 3
   },
   "file_extension": ".py",
   "mimetype": "text/x-python",
   "name": "python",
   "nbconvert_exporter": "python",
   "pygments_lexer": "ipython3",
   "version": "3.9.7"
  }
 },
 "nbformat": 4,
 "nbformat_minor": 5
}
